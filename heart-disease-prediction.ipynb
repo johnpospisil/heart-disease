{
 "cells": [
  {
   "cell_type": "markdown",
   "id": "f6e49535",
   "metadata": {
    "papermill": {
     "duration": 0.002993,
     "end_time": "2025-01-21T04:03:24.873403",
     "exception": false,
     "start_time": "2025-01-21T04:03:24.870410",
     "status": "completed"
    },
    "tags": []
   },
   "source": [
    "# Heart Disease Prediction and EDA"
   ]
  },
  {
   "cell_type": "code",
   "execution_count": 1,
   "id": "74ff3b9c",
   "metadata": {
    "_cell_guid": "b1076dfc-b9ad-4769-8c92-a6c4dae69d19",
    "_kg_hide-input": false,
    "_uuid": "8f2839f25d086af736a60e9eeb907d3b93b6e0e5",
    "execution": {
     "iopub.execute_input": "2025-01-21T04:03:24.879806Z",
     "iopub.status.busy": "2025-01-21T04:03:24.879416Z",
     "iopub.status.idle": "2025-01-21T04:03:25.731322Z",
     "shell.execute_reply": "2025-01-21T04:03:25.730184Z"
    },
    "papermill": {
     "duration": 0.857057,
     "end_time": "2025-01-21T04:03:25.733129",
     "exception": false,
     "start_time": "2025-01-21T04:03:24.876072",
     "status": "completed"
    },
    "tags": []
   },
   "outputs": [
    {
     "name": "stdout",
     "output_type": "stream",
     "text": [
      "/kaggle/input/personal-key-indicators-of-heart-disease/2020/heart_2020_cleaned.csv\n",
      "/kaggle/input/personal-key-indicators-of-heart-disease/2022/heart_2022_with_nans.csv\n",
      "/kaggle/input/personal-key-indicators-of-heart-disease/2022/heart_2022_no_nans.csv\n"
     ]
    }
   ],
   "source": [
    "# This Python 3 environment comes with many helpful analytics libraries installed\n",
    "# It is defined by the kaggle/python Docker image: https://github.com/kaggle/docker-python\n",
    "# For example, here's several helpful packages to load\n",
    "\n",
    "import numpy as np # linear algebra\n",
    "import pandas as pd # data processing, CSV file I/O (e.g. pd.read_csv)\n",
    "\n",
    "# Input data files are available in the read-only \"../input/\" directory\n",
    "# For example, running this (by clicking run or pressing Shift+Enter) will list all files under the input directory\n",
    "\n",
    "import os\n",
    "for dirname, _, filenames in os.walk('/kaggle/input'):\n",
    "    for filename in filenames:\n",
    "        print(os.path.join(dirname, filename))\n",
    "\n",
    "# You can write up to 20GB to the current directory (/kaggle/working/) that gets preserved as output when you create a version using \"Save & Run All\" \n",
    "# You can also write temporary files to /kaggle/temp/, but they won't be saved outside of the current session"
   ]
  },
  {
   "cell_type": "code",
   "execution_count": 2,
   "id": "4a423ac4",
   "metadata": {
    "execution": {
     "iopub.execute_input": "2025-01-21T04:03:25.739200Z",
     "iopub.status.busy": "2025-01-21T04:03:25.738772Z",
     "iopub.status.idle": "2025-01-21T04:03:28.482596Z",
     "shell.execute_reply": "2025-01-21T04:03:28.481421Z"
    },
    "papermill": {
     "duration": 2.748533,
     "end_time": "2025-01-21T04:03:28.484369",
     "exception": false,
     "start_time": "2025-01-21T04:03:25.735836",
     "status": "completed"
    },
    "tags": []
   },
   "outputs": [
    {
     "name": "stdout",
     "output_type": "stream",
     "text": [
      "     State     Sex GeneralHealth  PhysicalHealthDays  MentalHealthDays  \\\n",
      "0  Alabama  Female     Very good                 4.0               0.0   \n",
      "1  Alabama    Male     Very good                 0.0               0.0   \n",
      "2  Alabama    Male     Very good                 0.0               0.0   \n",
      "3  Alabama  Female          Fair                 5.0               0.0   \n",
      "4  Alabama  Female          Good                 3.0              15.0   \n",
      "\n",
      "                                     LastCheckupTime PhysicalActivities  \\\n",
      "0  Within past year (anytime less than 12 months ...                Yes   \n",
      "1  Within past year (anytime less than 12 months ...                Yes   \n",
      "2  Within past year (anytime less than 12 months ...                 No   \n",
      "3  Within past year (anytime less than 12 months ...                Yes   \n",
      "4  Within past year (anytime less than 12 months ...                Yes   \n",
      "\n",
      "   SleepHours            RemovedTeeth HadHeartAttack  ... HeightInMeters  \\\n",
      "0         9.0            None of them             No  ...           1.60   \n",
      "1         6.0            None of them             No  ...           1.78   \n",
      "2         8.0  6 or more, but not all             No  ...           1.85   \n",
      "3         9.0            None of them             No  ...           1.70   \n",
      "4         5.0                  1 to 5             No  ...           1.55   \n",
      "\n",
      "  WeightInKilograms    BMI AlcoholDrinkers HIVTesting FluVaxLast12  \\\n",
      "0             71.67  27.99              No         No          Yes   \n",
      "1             95.25  30.13              No         No          Yes   \n",
      "2            108.86  31.66             Yes         No           No   \n",
      "3             90.72  31.32              No         No          Yes   \n",
      "4             79.38  33.07              No         No          Yes   \n",
      "\n",
      "  PneumoVaxEver                                  TetanusLast10Tdap  \\\n",
      "0           Yes                                 Yes, received Tdap   \n",
      "1           Yes  Yes, received tetanus shot but not sure what type   \n",
      "2           Yes  No, did not receive any tetanus shot in the pa...   \n",
      "3           Yes  No, did not receive any tetanus shot in the pa...   \n",
      "4           Yes  No, did not receive any tetanus shot in the pa...   \n",
      "\n",
      "  HighRiskLastYear CovidPos  \n",
      "0               No       No  \n",
      "1               No       No  \n",
      "2               No      Yes  \n",
      "3               No      Yes  \n",
      "4               No       No  \n",
      "\n",
      "[5 rows x 40 columns]\n"
     ]
    }
   ],
   "source": [
    "import pandas as pd\n",
    "\n",
    "# Load the dataset\n",
    "file_path = '/kaggle/input/personal-key-indicators-of-heart-disease/2022/heart_2022_no_nans.csv'\n",
    "df = pd.read_csv(file_path)\n",
    "\n",
    "# Display the first few rows of the dataset\n",
    "print(df.head())"
   ]
  },
  {
   "cell_type": "code",
   "execution_count": 3,
   "id": "7859c583",
   "metadata": {
    "execution": {
     "iopub.execute_input": "2025-01-21T04:03:28.491881Z",
     "iopub.status.busy": "2025-01-21T04:03:28.491611Z",
     "iopub.status.idle": "2025-01-21T04:03:28.909254Z",
     "shell.execute_reply": "2025-01-21T04:03:28.908209Z"
    },
    "papermill": {
     "duration": 0.423834,
     "end_time": "2025-01-21T04:03:28.910997",
     "exception": false,
     "start_time": "2025-01-21T04:03:28.487163",
     "status": "completed"
    },
    "tags": []
   },
   "outputs": [
    {
     "name": "stdout",
     "output_type": "stream",
     "text": [
      "<class 'pandas.core.frame.DataFrame'>\n",
      "RangeIndex: 246022 entries, 0 to 246021\n",
      "Data columns (total 40 columns):\n",
      " #   Column                     Non-Null Count   Dtype  \n",
      "---  ------                     --------------   -----  \n",
      " 0   State                      246022 non-null  object \n",
      " 1   Sex                        246022 non-null  object \n",
      " 2   GeneralHealth              246022 non-null  object \n",
      " 3   PhysicalHealthDays         246022 non-null  float64\n",
      " 4   MentalHealthDays           246022 non-null  float64\n",
      " 5   LastCheckupTime            246022 non-null  object \n",
      " 6   PhysicalActivities         246022 non-null  object \n",
      " 7   SleepHours                 246022 non-null  float64\n",
      " 8   RemovedTeeth               246022 non-null  object \n",
      " 9   HadHeartAttack             246022 non-null  object \n",
      " 10  HadAngina                  246022 non-null  object \n",
      " 11  HadStroke                  246022 non-null  object \n",
      " 12  HadAsthma                  246022 non-null  object \n",
      " 13  HadSkinCancer              246022 non-null  object \n",
      " 14  HadCOPD                    246022 non-null  object \n",
      " 15  HadDepressiveDisorder      246022 non-null  object \n",
      " 16  HadKidneyDisease           246022 non-null  object \n",
      " 17  HadArthritis               246022 non-null  object \n",
      " 18  HadDiabetes                246022 non-null  object \n",
      " 19  DeafOrHardOfHearing        246022 non-null  object \n",
      " 20  BlindOrVisionDifficulty    246022 non-null  object \n",
      " 21  DifficultyConcentrating    246022 non-null  object \n",
      " 22  DifficultyWalking          246022 non-null  object \n",
      " 23  DifficultyDressingBathing  246022 non-null  object \n",
      " 24  DifficultyErrands          246022 non-null  object \n",
      " 25  SmokerStatus               246022 non-null  object \n",
      " 26  ECigaretteUsage            246022 non-null  object \n",
      " 27  ChestScan                  246022 non-null  object \n",
      " 28  RaceEthnicityCategory      246022 non-null  object \n",
      " 29  AgeCategory                246022 non-null  object \n",
      " 30  HeightInMeters             246022 non-null  float64\n",
      " 31  WeightInKilograms          246022 non-null  float64\n",
      " 32  BMI                        246022 non-null  float64\n",
      " 33  AlcoholDrinkers            246022 non-null  object \n",
      " 34  HIVTesting                 246022 non-null  object \n",
      " 35  FluVaxLast12               246022 non-null  object \n",
      " 36  PneumoVaxEver              246022 non-null  object \n",
      " 37  TetanusLast10Tdap          246022 non-null  object \n",
      " 38  HighRiskLastYear           246022 non-null  object \n",
      " 39  CovidPos                   246022 non-null  object \n",
      "dtypes: float64(6), object(34)\n",
      "memory usage: 75.1+ MB\n"
     ]
    }
   ],
   "source": [
    "df.info()"
   ]
  },
  {
   "cell_type": "markdown",
   "id": "fa957959",
   "metadata": {
    "papermill": {
     "duration": 0.002293,
     "end_time": "2025-01-21T04:03:28.916167",
     "exception": false,
     "start_time": "2025-01-21T04:03:28.913874",
     "status": "completed"
    },
    "tags": []
   },
   "source": [
    "### Display unique values for each column"
   ]
  },
  {
   "cell_type": "code",
   "execution_count": 4,
   "id": "f1e5c5e3",
   "metadata": {
    "execution": {
     "iopub.execute_input": "2025-01-21T04:03:28.921914Z",
     "iopub.status.busy": "2025-01-21T04:03:28.921626Z",
     "iopub.status.idle": "2025-01-21T04:03:29.373681Z",
     "shell.execute_reply": "2025-01-21T04:03:29.372665Z"
    },
    "papermill": {
     "duration": 0.456612,
     "end_time": "2025-01-21T04:03:29.375160",
     "exception": false,
     "start_time": "2025-01-21T04:03:28.918548",
     "status": "completed"
    },
    "tags": []
   },
   "outputs": [
    {
     "name": "stdout",
     "output_type": "stream",
     "text": [
      "Column: State\n",
      "Unique Values: ['Alabama' 'Alaska' 'Arizona' 'Arkansas' 'California' 'Colorado'\n",
      " 'Connecticut' 'Delaware' 'District of Columbia' 'Florida' 'Georgia'\n",
      " 'Hawaii' 'Idaho' 'Illinois' 'Indiana' 'Iowa' 'Kansas' 'Kentucky'\n",
      " 'Louisiana' 'Maine' 'Maryland' 'Massachusetts' 'Michigan' 'Minnesota'\n",
      " 'Mississippi' 'Missouri' 'Montana' 'Nebraska' 'Nevada' 'New Hampshire'\n",
      " 'New Jersey' 'New Mexico' 'New York' 'North Carolina' 'North Dakota'\n",
      " 'Ohio' 'Oklahoma' 'Oregon' 'Pennsylvania' 'Rhode Island' 'South Carolina'\n",
      " 'South Dakota' 'Tennessee' 'Texas' 'Utah' 'Vermont' 'Virginia'\n",
      " 'Washington' 'West Virginia' 'Wisconsin' 'Wyoming' 'Guam' 'Puerto Rico'\n",
      " 'Virgin Islands']\n",
      "\n",
      "Column: Sex\n",
      "Unique Values: ['Female' 'Male']\n",
      "\n",
      "Column: GeneralHealth\n",
      "Unique Values: ['Very good' 'Fair' 'Good' 'Excellent' 'Poor']\n",
      "\n",
      "Column: PhysicalHealthDays\n",
      "Range: 0.0 to 30.0\n",
      "\n",
      "Column: MentalHealthDays\n",
      "Range: 0.0 to 30.0\n",
      "\n",
      "Column: LastCheckupTime\n",
      "Unique Values: ['Within past year (anytime less than 12 months ago)'\n",
      " '5 or more years ago'\n",
      " 'Within past 2 years (1 year but less than 2 years ago)'\n",
      " 'Within past 5 years (2 years but less than 5 years ago)']\n",
      "\n",
      "Column: PhysicalActivities\n",
      "Unique Values: ['Yes' 'No']\n",
      "\n",
      "Column: SleepHours\n",
      "Range: 1.0 to 24.0\n",
      "\n",
      "Column: RemovedTeeth\n",
      "Unique Values: ['None of them' '6 or more, but not all' '1 to 5' 'All']\n",
      "\n",
      "Column: HadHeartAttack\n",
      "Unique Values: ['No' 'Yes']\n",
      "\n",
      "Column: HadAngina\n",
      "Unique Values: ['No' 'Yes']\n",
      "\n",
      "Column: HadStroke\n",
      "Unique Values: ['No' 'Yes']\n",
      "\n",
      "Column: HadAsthma\n",
      "Unique Values: ['No' 'Yes']\n",
      "\n",
      "Column: HadSkinCancer\n",
      "Unique Values: ['No' 'Yes']\n",
      "\n",
      "Column: HadCOPD\n",
      "Unique Values: ['No' 'Yes']\n",
      "\n",
      "Column: HadDepressiveDisorder\n",
      "Unique Values: ['No' 'Yes']\n",
      "\n",
      "Column: HadKidneyDisease\n",
      "Unique Values: ['No' 'Yes']\n",
      "\n",
      "Column: HadArthritis\n",
      "Unique Values: ['Yes' 'No']\n",
      "\n",
      "Column: HadDiabetes\n",
      "Unique Values: ['No' 'Yes' 'Yes, but only during pregnancy (female)'\n",
      " 'No, pre-diabetes or borderline diabetes']\n",
      "\n",
      "Column: DeafOrHardOfHearing\n",
      "Unique Values: ['No' 'Yes']\n",
      "\n",
      "Column: BlindOrVisionDifficulty\n",
      "Unique Values: ['No' 'Yes']\n",
      "\n",
      "Column: DifficultyConcentrating\n",
      "Unique Values: ['No' 'Yes']\n",
      "\n",
      "Column: DifficultyWalking\n",
      "Unique Values: ['No' 'Yes']\n",
      "\n",
      "Column: DifficultyDressingBathing\n",
      "Unique Values: ['No' 'Yes']\n",
      "\n",
      "Column: DifficultyErrands\n",
      "Unique Values: ['No' 'Yes']\n",
      "\n",
      "Column: SmokerStatus\n",
      "Unique Values: ['Former smoker' 'Never smoked' 'Current smoker - now smokes every day'\n",
      " 'Current smoker - now smokes some days']\n",
      "\n",
      "Column: ECigaretteUsage\n",
      "Unique Values: ['Never used e-cigarettes in my entire life' 'Use them some days'\n",
      " 'Not at all (right now)' 'Use them every day']\n",
      "\n",
      "Column: ChestScan\n",
      "Unique Values: ['No' 'Yes']\n",
      "\n",
      "Column: RaceEthnicityCategory\n",
      "Unique Values: ['White only, Non-Hispanic' 'Black only, Non-Hispanic'\n",
      " 'Other race only, Non-Hispanic' 'Multiracial, Non-Hispanic' 'Hispanic']\n",
      "\n",
      "Column: AgeCategory\n",
      "Unique Values: ['Age 65 to 69' 'Age 70 to 74' 'Age 75 to 79' 'Age 80 or older'\n",
      " 'Age 50 to 54' 'Age 40 to 44' 'Age 60 to 64' 'Age 55 to 59'\n",
      " 'Age 45 to 49' 'Age 35 to 39' 'Age 25 to 29' 'Age 30 to 34'\n",
      " 'Age 18 to 24']\n",
      "\n",
      "Column: HeightInMeters\n",
      "Range: 0.91 to 2.41\n",
      "\n",
      "Column: WeightInKilograms\n",
      "Range: 28.12 to 292.57\n",
      "\n",
      "Column: BMI\n",
      "Range: 12.02 to 97.65\n",
      "\n",
      "Column: AlcoholDrinkers\n",
      "Unique Values: ['No' 'Yes']\n",
      "\n",
      "Column: HIVTesting\n",
      "Unique Values: ['No' 'Yes']\n",
      "\n",
      "Column: FluVaxLast12\n",
      "Unique Values: ['Yes' 'No']\n",
      "\n",
      "Column: PneumoVaxEver\n",
      "Unique Values: ['Yes' 'No']\n",
      "\n",
      "Column: TetanusLast10Tdap\n",
      "Unique Values: ['Yes, received Tdap' 'Yes, received tetanus shot but not sure what type'\n",
      " 'No, did not receive any tetanus shot in the past 10 years'\n",
      " 'Yes, received tetanus shot, but not Tdap']\n",
      "\n",
      "Column: HighRiskLastYear\n",
      "Unique Values: ['No' 'Yes']\n",
      "\n",
      "Column: CovidPos\n",
      "Unique Values: ['No' 'Yes'\n",
      " 'Tested positive using home test without a health professional']\n",
      "\n"
     ]
    }
   ],
   "source": [
    "# Iterate through each column and process based on data type\n",
    "for column in df.columns:\n",
    "    if df[column].dtype == 'object':  # Categorical variables\n",
    "        unique_values = df[column].unique()\n",
    "        print(f\"Column: {column}\")\n",
    "        print(f\"Unique Values: {unique_values}\\n\")\n",
    "    else:  # Numeric variables\n",
    "        col_min = df[column].min()\n",
    "        col_max = df[column].max()\n",
    "        print(f\"Column: {column}\")\n",
    "        print(f\"Range: {col_min} to {col_max}\\n\")"
   ]
  },
  {
   "cell_type": "markdown",
   "id": "e88b6d07",
   "metadata": {
    "papermill": {
     "duration": 0.002745,
     "end_time": "2025-01-21T04:03:29.381146",
     "exception": false,
     "start_time": "2025-01-21T04:03:29.378401",
     "status": "completed"
    },
    "tags": []
   },
   "source": [
    "Here’s a brief rundown of what each column in the dataset represents:\n",
    "\n",
    "`State` - State FIPS Code\\\n",
    "`Sex` - Sex of Respondent\\\n",
    "`GeneralHealth` - Would you say that in general your health is:\\\n",
    "`PhysicalHealthDays` - Now thinking about your physical health, which includes physical illness and injury, for how many days during the past 30 days was your physical health not good?\\\n",
    "`MentalHealthDays` - Now thinking about your mental health, which includes stress, depression, and problems with emotions, for how many days during the past 30 days was your mental health not good?\\\n",
    "`LastCheckupTime` - About how long has it been since you last visited a doctor for a routine checkup?\\\n",
    "`PhysicalActivities` - During the past month, other than your regular job, did you participate in any physical activities or exercises such as running, calisthenics, golf, gardening, or walking for exercise?\\\n",
    "`SleepHours` - On average, how many hours of sleep do you get in a 24-hour period?\\\n",
    "`RemovedTeeth` - Not including teeth lost for injury or orthodontics, how many of your permanent teeth have been removed because of tooth decay or gum disease?\\\n",
    "`HadHeartAttack` - (Ever told) you had a heart attack, also called a myocardial infarction?\\\n",
    "`HadAngina` - (Ever told) (you had) angina or coronary heart disease?\\\n",
    "`HadStroke` - (Ever told) (you had) a stroke.\\\n",
    "`HadAsthma` - (Ever told) (you had) asthma?\\\n",
    "`HadSkinCancer` - (Ever told) (you had) skin cancer that is not melanoma?\\\n",
    "`HadCOPD` - (Ever told) (you had) C.O.P.D. (chronic obstructive pulmonary disease), emphysema or chronic bronchitis?\\\n",
    "`HadDepressiveDisorder` - (Ever told) (you had) a depressive disorder (including depression, major depression, dysthymia, or minor depression)?\\\n",
    "`HadKidneyDisease` - Not including kidney stones, bladder infection or incontinence, were you ever told you had kidney disease?\\\n",
    "`HadArthritis` - (Ever told) (you had) some form of arthritis, rheumatoid arthritis, gout, lupus, or fibromyalgia?  (Arthritis diagnoses include: rheumatism, polymyalgia rheumatica; osteoarthritis (not osteporosis); tendonitis, bursitis, bunion, tennis elbow; carpal tunnel syndrome, tarsal tunnel syndrome; joint infection, etc.)\\\n",
    "`HadDiabetes` - (Ever told) (you had) diabetes?\\\n",
    "`DeafOrHardOfHearing` - Are you deaf or do you have serious difficulty hearing?\\\n",
    "`BlindOrVisionDifficulty` - Are you blind or do you have serious difficulty seeing, even when wearing glasses?\\\n",
    "`DifficultyConcentrating` - Because of a physical, mental, or emotional condition, do you have serious difficulty concentrating, remembering, or making decisions?\\\n",
    "`DifficultyWalking` - Do you have serious difficulty walking or climbing stairs?\\\n",
    "`DifficultyDressingBathing` - Do you have difficulty dressing or bathing?\\\n",
    "`DifficultyErrands` - Because of a physical, mental, or emotional condition, do you have difficulty doing errands alone such as visiting a doctor´s office or shopping?\\\n",
    "`SmokerStatus` - Four-level smoker status:  Everyday smoker, Someday smoker, Former smoker, Non-smoker\\\n",
    "`ECigaretteUsage` - Would you say you have never used e-cigarettes or other electronic vaping products in your entire life or now use them every day, use them some days, or used them in the past but do not currently use them at all?\\\n",
    "`ChestScan` - Have you ever had a CT or CAT scan of your chest area?\\\n",
    "`RaceEthnicityCategory` - Five-level race/ethnicity category\\\n",
    "`AgeCategory` - Fourteen-level age category\\\n",
    "`HeightInMeters` - Reported height in meters\\\n",
    "`WeightInKilograms` - Reported weight in kilograms\\\n",
    "`BMI` - Body Mass Index (BMI)\\\n",
    "`AlchoholDrinkers` - Adults who reported having had at least one drink of alcohol in the past 30 days.\\\n",
    "`HIVTesting` - Adults who have ever been tested for HIV\\\n",
    "`FluVaxLast12` - During the past 12 months, have you had either flu vaccine that was sprayed in your nose or flu shot injected into your arm?\\\n",
    "`PneumoVaxEver` - Have you ever had a pneumonia shot also known as a pneumococcal vaccine?\\\n",
    "`TetanusLast10Tdap` - Have you received a tetanus shot in the past 10 years? Was this Tdap, the tetanus shot that also has pertussis or whooping cough vaccine?\\\n",
    "`HighRiskLastYear` - You have injected any drug other than those prescribed for you in the past year. You have been treated for a sexually transmitted disease or STD in the past year. You have given or received money or drugs in exchange for sex in the past year.\\\n",
    "`CovidPos` - Has a doctor, nurse, or other health professional ever told you that you tested positive for COVID 19?\n"
   ]
  },
  {
   "cell_type": "code",
   "execution_count": null,
   "id": "4774c267",
   "metadata": {
    "papermill": {
     "duration": 0.002608,
     "end_time": "2025-01-21T04:03:29.386768",
     "exception": false,
     "start_time": "2025-01-21T04:03:29.384160",
     "status": "completed"
    },
    "tags": []
   },
   "outputs": [],
   "source": []
  }
 ],
 "metadata": {
  "kaggle": {
   "accelerator": "none",
   "dataSources": [
    {
     "datasetId": 1936563,
     "sourceId": 6674905,
     "sourceType": "datasetVersion"
    }
   ],
   "dockerImageVersionId": 30839,
   "isGpuEnabled": false,
   "isInternetEnabled": true,
   "language": "python",
   "sourceType": "notebook"
  },
  "kernelspec": {
   "display_name": "Python 3",
   "language": "python",
   "name": "python3"
  },
  "language_info": {
   "codemirror_mode": {
    "name": "ipython",
    "version": 3
   },
   "file_extension": ".py",
   "mimetype": "text/x-python",
   "name": "python",
   "nbconvert_exporter": "python",
   "pygments_lexer": "ipython3",
   "version": "3.10.12"
  },
  "papermill": {
   "default_parameters": {},
   "duration": 7.484163,
   "end_time": "2025-01-21T04:03:29.907460",
   "environment_variables": {},
   "exception": null,
   "input_path": "__notebook__.ipynb",
   "output_path": "__notebook__.ipynb",
   "parameters": {},
   "start_time": "2025-01-21T04:03:22.423297",
   "version": "2.6.0"
  }
 },
 "nbformat": 4,
 "nbformat_minor": 5
}
